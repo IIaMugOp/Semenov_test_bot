{
 "cells": [
  {
   "cell_type": "code",
   "execution_count": null,
   "id": "7d68aa0b",
   "metadata": {},
   "outputs": [],
   "source": [
    "from aiogram import Bot, Dispatcher, F\n",
    "from aiogram.filters import Command\n",
    "from aiogram.types import Message\n",
    "\n",
    "# Вместо BOT TOKEN HERE нужно вставить токен вашего бота, полученный у @BotFather\n",
    "BOT_TOKEN = '6390548823:AAGnZr8UEJTnb12TfQwx3-F3xqLOBFwh2qg'\n",
    "\n",
    "# Создаем объекты бота и диспетчера\n",
    "bot = Bot(token=BOT_TOKEN)\n",
    "dp = Dispatcher()\n",
    "\n",
    "\n",
    "# Этот хэндлер будет срабатывать на команду \"/start\"\n",
    "@dp.message(Command(commands=[\"start\"]))\n",
    "async def process_start_command(message: Message):\n",
    "    await message.answer('Привет!\\nМеня зовут Эхо-бот!\\nНапиши мне что-нибудь')\n",
    "\n",
    "\n",
    "# Этот хэндлер будет срабатывать на команду \"/help\"\n",
    "@dp.message(Command(commands=['help']))\n",
    "async def process_help_command(message: Message):\n",
    "    await message.answer(\n",
    "        'Напиши мне что-нибудь и в ответ '\n",
    "        'я пришлю тебе твое сообщение'\n",
    "    )\n",
    "    \n",
    "@dp.message(F.photo)\n",
    "async def send_photo_echo(message: Message):\n",
    "    await message.answer(message.photo[0].file_id)\n",
    "\n",
    "@dp.message()\n",
    "async def send_echo(message: Message):\n",
    "    await message.answer(text=message.text)\n",
    "\n",
    "\n",
    "if __name__ == '__main__':\n",
    "    dp.run_polling(bot)\n"
   ]
  },
  {
   "cell_type": "code",
   "execution_count": null,
   "id": "0061605d",
   "metadata": {},
   "outputs": [],
   "source": [
    "!pip install nest_asyncio"
   ]
  },
  {
   "cell_type": "code",
   "execution_count": null,
   "id": "fd7ef628",
   "metadata": {},
   "outputs": [],
   "source": [
    "import nest_asyncio\n",
    "nest_asyncio.apply()\n",
    "#Для устранения проблем с ассинхронностью в ноутбуке"
   ]
  },
  {
   "cell_type": "code",
   "execution_count": null,
   "id": "8348dc93",
   "metadata": {},
   "outputs": [],
   "source": []
  }
 ],
 "metadata": {
  "kernelspec": {
   "display_name": "Python 3 (ipykernel)",
   "language": "python",
   "name": "python3"
  },
  "language_info": {
   "codemirror_mode": {
    "name": "ipython",
    "version": 3
   },
   "file_extension": ".py",
   "mimetype": "text/x-python",
   "name": "python",
   "nbconvert_exporter": "python",
   "pygments_lexer": "ipython3",
   "version": "3.9.13"
  }
 },
 "nbformat": 4,
 "nbformat_minor": 5
}
