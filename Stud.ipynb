{
 "cells": [
  {
   "cell_type": "code",
   "execution_count": 3,
   "id": "36a77e34",
   "metadata": {},
   "outputs": [
    {
     "name": "stdout",
     "output_type": "stream",
     "text": [
      "Requirement already satisfied: aiogram==3.0.0b7 in c:\\python etc\\lib\\site-packages (3.0.0b7)\n",
      "Requirement already satisfied: pydantic~=1.10.4 in c:\\python etc\\lib\\site-packages (from aiogram==3.0.0b7) (1.10.13)\n",
      "Requirement already satisfied: aiofiles~=23.1.0 in c:\\python etc\\lib\\site-packages (from aiogram==3.0.0b7) (23.1.0)\n",
      "Requirement already satisfied: magic-filter~=1.0.9 in c:\\python etc\\lib\\site-packages (from aiogram==3.0.0b7) (1.0.12)\n",
      "Requirement already satisfied: aiohttp~=3.8.4 in c:\\python etc\\lib\\site-packages (from aiogram==3.0.0b7) (3.8.6)\n",
      "Requirement already satisfied: certifi>=2022.9.24 in c:\\python etc\\lib\\site-packages (from aiogram==3.0.0b7) (2023.11.17)\n",
      "Requirement already satisfied: multidict<7.0,>=4.5 in c:\\python etc\\lib\\site-packages (from aiohttp~=3.8.4->aiogram==3.0.0b7) (6.0.4)\n",
      "Requirement already satisfied: async-timeout<5.0,>=4.0.0a3 in c:\\python etc\\lib\\site-packages (from aiohttp~=3.8.4->aiogram==3.0.0b7) (4.0.3)\n",
      "Requirement already satisfied: aiosignal>=1.1.2 in c:\\python etc\\lib\\site-packages (from aiohttp~=3.8.4->aiogram==3.0.0b7) (1.3.1)\n",
      "Requirement already satisfied: yarl<2.0,>=1.0 in c:\\python etc\\lib\\site-packages (from aiohttp~=3.8.4->aiogram==3.0.0b7) (1.9.4)\n",
      "Requirement already satisfied: frozenlist>=1.1.1 in c:\\python etc\\lib\\site-packages (from aiohttp~=3.8.4->aiogram==3.0.0b7) (1.4.1)\n",
      "Requirement already satisfied: charset-normalizer<4.0,>=2.0 in c:\\python etc\\lib\\site-packages (from aiohttp~=3.8.4->aiogram==3.0.0b7) (2.0.4)\n",
      "Requirement already satisfied: attrs>=17.3.0 in c:\\python etc\\lib\\site-packages (from aiohttp~=3.8.4->aiogram==3.0.0b7) (21.4.0)\n",
      "Requirement already satisfied: typing-extensions>=4.2.0 in c:\\python etc\\lib\\site-packages (from pydantic~=1.10.4->aiogram==3.0.0b7) (4.3.0)\n",
      "Requirement already satisfied: idna>=2.0 in c:\\python etc\\lib\\site-packages (from yarl<2.0,>=1.0->aiohttp~=3.8.4->aiogram==3.0.0b7) (3.3)\n"
     ]
    }
   ],
   "source": [
    "!pip install -U aiogram==3.0.0b7"
   ]
  },
  {
   "cell_type": "code",
   "execution_count": 9,
   "id": "86e3f8ab",
   "metadata": {},
   "outputs": [
    {
     "name": "stdout",
     "output_type": "stream",
     "text": [
      "43 is the maximum number of cars participating in a NASCAR race in the Cup Series or Nationwide Series.\n"
     ]
    }
   ],
   "source": [
    "import requests\n",
    "\n",
    "\n",
    "api_url = 'http://numbersapi.com/43'\n",
    "response = requests.get(api_url)\n",
    "\n",
    "print(response.text)"
   ]
  },
  {
   "cell_type": "code",
   "execution_count": 2,
   "id": "acf984f6",
   "metadata": {},
   "outputs": [
    {
     "name": "stdout",
     "output_type": "stream",
     "text": [
      "Initialized empty Git repository in C:/Users/РњРѕР№ РєРѕРјРїСЊСЋС‚РµСЂ/Desktop/TeleBot/.git/\n"
     ]
    }
   ],
   "source": []
  },
  {
   "cell_type": "code",
   "execution_count": null,
   "id": "a1de0422",
   "metadata": {},
   "outputs": [],
   "source": []
  }
 ],
 "metadata": {
  "kernelspec": {
   "display_name": "Python 3 (ipykernel)",
   "language": "python",
   "name": "python3"
  },
  "language_info": {
   "codemirror_mode": {
    "name": "ipython",
    "version": 3
   },
   "file_extension": ".py",
   "mimetype": "text/x-python",
   "name": "python",
   "nbconvert_exporter": "python",
   "pygments_lexer": "ipython3",
   "version": "3.9.13"
  }
 },
 "nbformat": 4,
 "nbformat_minor": 5
}
