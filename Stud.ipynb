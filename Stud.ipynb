{
 "cells": [
  {
   "cell_type": "code",
   "execution_count": 3,
   "id": "36a77e34",
   "metadata": {},
   "outputs": [
    {
     "name": "stdout",
     "output_type": "stream",
     "text": [
      "Requirement already satisfied: aiogram==3.0.0b7 in c:\\python etc\\lib\\site-packages (3.0.0b7)\n",
      "Requirement already satisfied: pydantic~=1.10.4 in c:\\python etc\\lib\\site-packages (from aiogram==3.0.0b7) (1.10.13)\n",
      "Requirement already satisfied: aiofiles~=23.1.0 in c:\\python etc\\lib\\site-packages (from aiogram==3.0.0b7) (23.1.0)\n",
      "Requirement already satisfied: magic-filter~=1.0.9 in c:\\python etc\\lib\\site-packages (from aiogram==3.0.0b7) (1.0.12)\n",
      "Requirement already satisfied: aiohttp~=3.8.4 in c:\\python etc\\lib\\site-packages (from aiogram==3.0.0b7) (3.8.6)\n",
      "Requirement already satisfied: certifi>=2022.9.24 in c:\\python etc\\lib\\site-packages (from aiogram==3.0.0b7) (2023.11.17)\n",
      "Requirement already satisfied: multidict<7.0,>=4.5 in c:\\python etc\\lib\\site-packages (from aiohttp~=3.8.4->aiogram==3.0.0b7) (6.0.4)\n",
      "Requirement already satisfied: async-timeout<5.0,>=4.0.0a3 in c:\\python etc\\lib\\site-packages (from aiohttp~=3.8.4->aiogram==3.0.0b7) (4.0.3)\n",
      "Requirement already satisfied: aiosignal>=1.1.2 in c:\\python etc\\lib\\site-packages (from aiohttp~=3.8.4->aiogram==3.0.0b7) (1.3.1)\n",
      "Requirement already satisfied: yarl<2.0,>=1.0 in c:\\python etc\\lib\\site-packages (from aiohttp~=3.8.4->aiogram==3.0.0b7) (1.9.4)\n",
      "Requirement already satisfied: frozenlist>=1.1.1 in c:\\python etc\\lib\\site-packages (from aiohttp~=3.8.4->aiogram==3.0.0b7) (1.4.1)\n",
      "Requirement already satisfied: charset-normalizer<4.0,>=2.0 in c:\\python etc\\lib\\site-packages (from aiohttp~=3.8.4->aiogram==3.0.0b7) (2.0.4)\n",
      "Requirement already satisfied: attrs>=17.3.0 in c:\\python etc\\lib\\site-packages (from aiohttp~=3.8.4->aiogram==3.0.0b7) (21.4.0)\n",
      "Requirement already satisfied: typing-extensions>=4.2.0 in c:\\python etc\\lib\\site-packages (from pydantic~=1.10.4->aiogram==3.0.0b7) (4.3.0)\n",
      "Requirement already satisfied: idna>=2.0 in c:\\python etc\\lib\\site-packages (from yarl<2.0,>=1.0->aiohttp~=3.8.4->aiogram==3.0.0b7) (3.3)\n"
     ]
    }
   ],
   "source": [
    "!pip install -U aiogram==3.0.0b7"
   ]
  },
  {
   "cell_type": "code",
   "execution_count": 9,
   "id": "86e3f8ab",
   "metadata": {},
   "outputs": [
    {
     "name": "stdout",
     "output_type": "stream",
     "text": [
      "43 is the maximum number of cars participating in a NASCAR race in the Cup Series or Nationwide Series.\n"
     ]
    }
   ],
   "source": [
    "import requests\n",
    "\n",
    "\n",
    "api_url = 'http://numbersapi.com/43'\n",
    "response = requests.get(api_url)\n",
    "\n",
    "print(response.text)"
   ]
  },
  {
   "cell_type": "code",
   "execution_count": 2,
   "id": "acf984f6",
   "metadata": {},
   "outputs": [
    {
     "name": "stdout",
     "output_type": "stream",
     "text": [
      "Initialized empty Git repository in C:/Users/РњРѕР№ РєРѕРјРїСЊСЋС‚РµСЂ/Desktop/TeleBot/.git/\n"
     ]
    }
   ],
   "source": []
  },
  {
   "cell_type": "code",
   "execution_count": null,
   "id": "e368359a",
   "metadata": {},
   "outputs": [
    {
     "name": "stdout",
     "output_type": "stream",
     "text": [
      "attempt = 0\n",
      "attempt = 1\n",
      "attempt = 2\n",
      "attempt = 3\n",
      "attempt = 4\n",
      "attempt = 5\n",
      "attempt = 6\n",
      "attempt = 7\n",
      "attempt = 8\n",
      "attempt = 9\n",
      "attempt = 10\n",
      "attempt = 11\n",
      "attempt = 12\n",
      "attempt = 13\n",
      "attempt = 14\n",
      "attempt = 15\n",
      "attempt = 16\n",
      "attempt = 17\n",
      "attempt = 18\n",
      "attempt = 19\n",
      "attempt = 20\n",
      "attempt = 21\n",
      "attempt = 22\n",
      "attempt = 23\n",
      "attempt = 24\n",
      "attempt = 25\n",
      "attempt = 26\n",
      "attempt = 27\n",
      "attempt = 28\n",
      "attempt = 29\n",
      "attempt = 30\n",
      "attempt = 31\n",
      "attempt = 32\n",
      "attempt = 33\n",
      "attempt = 34\n",
      "attempt = 35\n",
      "attempt = 36\n",
      "attempt = 37\n",
      "attempt = 38\n",
      "attempt = 39\n",
      "attempt = 40\n",
      "attempt = 41\n",
      "attempt = 42\n",
      "attempt = 43\n",
      "attempt = 44\n",
      "attempt = 45\n",
      "attempt = 46\n",
      "attempt = 47\n",
      "attempt = 48\n",
      "attempt = 49\n",
      "attempt = 50\n",
      "attempt = 51\n",
      "attempt = 52\n",
      "attempt = 53\n",
      "attempt = 54\n",
      "attempt = 55\n",
      "attempt = 56\n",
      "attempt = 57\n",
      "attempt = 58\n",
      "attempt = 59\n",
      "attempt = 60\n",
      "attempt = 61\n",
      "attempt = 62\n",
      "attempt = 63\n",
      "attempt = 64\n",
      "attempt = 65\n",
      "attempt = 66\n",
      "attempt = 67\n",
      "attempt = 68\n",
      "attempt = 69\n",
      "attempt = 70\n",
      "attempt = 71\n",
      "attempt = 72\n",
      "attempt = 73\n",
      "attempt = 74\n",
      "attempt = 75\n",
      "attempt = 76\n",
      "attempt = 77\n",
      "attempt = 78\n",
      "attempt = 79\n",
      "attempt = 80\n"
     ]
    }
   ],
   "source": [
    "import requests\n",
    "import time\n",
    "\n",
    "\n",
    "API_URL = 'https://api.telegram.org/bot'\n",
    "API_CATS_URL = 'https://api.thecatapi.com/v1/images/search'\n",
    "BOT_TOKEN = '6390548823:AAGnZr8UEJTnb12TfQwx3-F3xqLOBFwh2qg'\n",
    "ERROR_TEXT = 'Здесь должна была быть картинка с котиком :('\n",
    "SUCCESS_TEXT = 'Я сын Виктора'\n",
    "\n",
    "offset = -2\n",
    "counter = 0\n",
    "cat_response: requests.Response\n",
    "cat_link: str\n",
    "\n",
    "\n",
    "while counter < 100:\n",
    "    print('attempt =', counter)\n",
    "    updates = requests.get(f'{API_URL}{BOT_TOKEN}/getUpdates?offset={offset + 1}').json()\n",
    "\n",
    "    if updates['result']:\n",
    "        for result in updates['result']:\n",
    "            offset = result['update_id']\n",
    "            chat_id = result['message']['from']['id']\n",
    "            cat_response = requests.get(API_CATS_URL)\n",
    "            if cat_response.status_code == 200:\n",
    "                cat_link = cat_response.json()[0]['url']\n",
    "                requests.get(f'{API_URL}{BOT_TOKEN}/sendPhoto?chat_id={chat_id}&photo={cat_link}')\n",
    "                requests.get(f'{API_URL}{BOT_TOKEN}/sendMessage?chat_id={chat_id}&text={SUCCESS_TEXT}')\n",
    "            else:\n",
    "                requests.get(f'{API_URL}{BOT_TOKEN}/sendMessage?chat_id={chat_id}&text={ERROR_TEXT}')\n",
    "\n",
    "    time.sleep(1)\n",
    "    counter += 1"
   ]
  },
  {
   "cell_type": "code",
   "execution_count": null,
   "id": "8fe84583",
   "metadata": {},
   "outputs": [],
   "source": []
  }
 ],
 "metadata": {
  "kernelspec": {
   "display_name": "Python 3 (ipykernel)",
   "language": "python",
   "name": "python3"
  },
  "language_info": {
   "codemirror_mode": {
    "name": "ipython",
    "version": 3
   },
   "file_extension": ".py",
   "mimetype": "text/x-python",
   "name": "python",
   "nbconvert_exporter": "python",
   "pygments_lexer": "ipython3",
   "version": "3.9.13"
  }
 },
 "nbformat": 4,
 "nbformat_minor": 5
}
